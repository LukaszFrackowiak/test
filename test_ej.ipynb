{
 "cells": [
  {
   "cell_type": "code",
   "execution_count": 3,
   "metadata": {},
   "outputs": [],
   "source": [
    "import numpy as np\n",
    "import pandas as pd\n",
    "import matplotlib.pyplot as plt"
   ]
  },
  {
   "cell_type": "code",
   "execution_count": 2,
   "metadata": {},
   "outputs": [],
   "source": [
    "def generate_eurojackpot_numbers(seed=None):\n",
    "    if seed is not None:\n",
    "        np.random.seed(seed)\n",
    "    \n",
    "    main_numbers = np.random.choice(range(1, 51), size=5, replace=False)\n",
    "    additional_numbers = np.random.choice(range(1, 11), size=2, replace=False)\n",
    "    \n",
    "    return sorted(main_numbers), sorted(additional_numbers)"
   ]
  },
  {
   "cell_type": "code",
   "execution_count": 4,
   "metadata": {},
   "outputs": [],
   "source": [
    "lista = []\n",
    "for seed in np.arange(50000000,100000000):\n",
    "    main_numbers, additional_numbers = generate_eurojackpot_numbers(seed=seed)\n",
    "    lista.append([seed, str(main_numbers).str.replace(',',''), str(additional_numbers).str.replace(',','')])"
   ]
  },
  {
   "cell_type": "code",
   "execution_count": 4,
   "metadata": {},
   "outputs": [
    {
     "name": "stdout",
     "output_type": "stream",
     "text": [
      "5\n",
      "6\n"
     ]
    }
   ],
   "source": [
    "for i in np.arange(5,7):\n",
    "    lista = []\n",
    "    for seed in np.arange(50000000*(i-1),50000000*i):\n",
    "        main_numbers, additional_numbers = generate_eurojackpot_numbers(seed=seed)\n",
    "        lista.append([seed, str(main_numbers).replace(',',''), str(additional_numbers).replace(',','')])\n",
    "    \n",
    "    df = pd.DataFrame(lista, columns=['seed', 'main_numbers', 'additional_numbers'])\n",
    "    df.to_parquet(f'Euro_numbers_part{i}.parquet')\n",
    "    print(i)"
   ]
  },
  {
   "cell_type": "code",
   "execution_count": null,
   "metadata": {},
   "outputs": [],
   "source": [
    "lista[1]"
   ]
  },
  {
   "cell_type": "code",
   "execution_count": null,
   "metadata": {},
   "outputs": [],
   "source": [
    "df = pd.DataFrame(lista, columns=['seed', 'main_numbers', 'additional_numbers'])\n"
   ]
  },
  {
   "cell_type": "code",
   "execution_count": null,
   "metadata": {},
   "outputs": [],
   "source": [
    "from datetime import datetime"
   ]
  },
  {
   "cell_type": "code",
   "execution_count": null,
   "metadata": {},
   "outputs": [],
   "source": [
    "# Initialize empty lists to store data\n",
    "data = []\n",
    "current_date = None\n",
    "main_numbers = []\n",
    "additional_numbers = []\n",
    "\n",
    "for year in np.arange(2012,2024):\n",
    "    # Read the text file\n",
    "    with open(f'C:/Users/FRACK004/Downloads/{year}.txt', 'r') as f:\n",
    "        lines = f.readlines()\n",
    "\n",
    "    # Process each line\n",
    "    for line in lines:\n",
    "        line = line.strip()\n",
    "        if line:  # Check if the line is not empty\n",
    "            try:\n",
    "                # Try to convert the line to an integer\n",
    "                number = int(line)\n",
    "                \n",
    "                # If it's a number, add it to the appropriate list\n",
    "                if len(main_numbers) < 5:\n",
    "                    main_numbers.append(number)\n",
    "                else:\n",
    "                    additional_numbers.append(number)\n",
    "            except ValueError:\n",
    "                # If it's not a number, it's a date or a new section\n",
    "                if not current_date:\n",
    "                    current_date = line\n",
    "                else:\n",
    "                    data.append([current_date, main_numbers, additional_numbers])\n",
    "                    current_date = line\n",
    "                    main_numbers = []\n",
    "                    additional_numbers = []\n",
    "\n",
    "    # Append the last set of data\n",
    "    if current_date:\n",
    "        data.append([current_date, main_numbers, additional_numbers])\n",
    "\n",
    "# Create a Pandas DataFrame\n",
    "df = pd.DataFrame(data, columns=['date', 'main_numbers', 'additional_numbers'])\n",
    "df.to_parquet('EJ_winning_numbers.parquet')\n"
   ]
  },
  {
   "cell_type": "code",
   "execution_count": 29,
   "metadata": {},
   "outputs": [],
   "source": [
    "df_win = pd.read_parquet('EJ_winning_numbers.parquet')\n",
    "df_win['main_numbers'] = df_win['main_numbers'].astype(str)\n",
    "df_win['additional_numbers'] = df_win['additional_numbers'].astype(str)\n"
   ]
  },
  {
   "cell_type": "code",
   "execution_count": 17,
   "metadata": {},
   "outputs": [],
   "source": [
    "df_seed = pd.read_parquet('Euro_numbers_part6.parquet')\n",
    "df_results_6=df_win.merge(df_seed, how='inner', on=['main_numbers','additional_numbers'] )"
   ]
  },
  {
   "cell_type": "code",
   "execution_count": 18,
   "metadata": {},
   "outputs": [
    {
     "data": {
      "text/html": [
       "<div>\n",
       "<style scoped>\n",
       "    .dataframe tbody tr th:only-of-type {\n",
       "        vertical-align: middle;\n",
       "    }\n",
       "\n",
       "    .dataframe tbody tr th {\n",
       "        vertical-align: top;\n",
       "    }\n",
       "\n",
       "    .dataframe thead th {\n",
       "        text-align: right;\n",
       "    }\n",
       "</style>\n",
       "<table border=\"1\" class=\"dataframe\">\n",
       "  <thead>\n",
       "    <tr style=\"text-align: right;\">\n",
       "      <th></th>\n",
       "      <th>date</th>\n",
       "      <th>main_numbers</th>\n",
       "      <th>additional_numbers</th>\n",
       "      <th>seed</th>\n",
       "    </tr>\n",
       "  </thead>\n",
       "  <tbody>\n",
       "    <tr>\n",
       "      <th>0</th>\n",
       "      <td>PiÄ…tek 9 listopada 2012</td>\n",
       "      <td>[25 29 38 41 44]</td>\n",
       "      <td>[3 8]</td>\n",
       "      <td>253569116</td>\n",
       "    </tr>\n",
       "    <tr>\n",
       "      <th>1</th>\n",
       "      <td>PiÄ…tek 14 wrzeĹ›nia 2012</td>\n",
       "      <td>[10 14 15 24 47]</td>\n",
       "      <td>[4 8]</td>\n",
       "      <td>275533691</td>\n",
       "    </tr>\n",
       "    <tr>\n",
       "      <th>2</th>\n",
       "      <td>PiÄ…tek 7 wrzeĹ›nia 2012</td>\n",
       "      <td>[15 23 25 46 49]</td>\n",
       "      <td>[2 4]</td>\n",
       "      <td>259552719</td>\n",
       "    </tr>\n",
       "    <tr>\n",
       "      <th>3</th>\n",
       "      <td>PiÄ…tek 6 lipca 2012</td>\n",
       "      <td>[10 22 24 33 38]</td>\n",
       "      <td>[2 6]</td>\n",
       "      <td>284993389</td>\n",
       "    </tr>\n",
       "    <tr>\n",
       "      <th>4</th>\n",
       "      <td>PiÄ…tek 8 czerwca 2012</td>\n",
       "      <td>[10 15 16 36 44]</td>\n",
       "      <td>[7 8]</td>\n",
       "      <td>250462337</td>\n",
       "    </tr>\n",
       "    <tr>\n",
       "      <th>...</th>\n",
       "      <td>...</td>\n",
       "      <td>...</td>\n",
       "      <td>...</td>\n",
       "      <td>...</td>\n",
       "    </tr>\n",
       "    <tr>\n",
       "      <th>85</th>\n",
       "      <td>Wtorek 13 czerwca 2023</td>\n",
       "      <td>[11 29 32 46 47]</td>\n",
       "      <td>[5 7]</td>\n",
       "      <td>275692504</td>\n",
       "    </tr>\n",
       "    <tr>\n",
       "      <th>86</th>\n",
       "      <td>Wtorek 13 czerwca 2023</td>\n",
       "      <td>[11 29 32 46 47]</td>\n",
       "      <td>[5 7]</td>\n",
       "      <td>276382750</td>\n",
       "    </tr>\n",
       "    <tr>\n",
       "      <th>87</th>\n",
       "      <td>Wtorek 13 czerwca 2023</td>\n",
       "      <td>[11 29 32 46 47]</td>\n",
       "      <td>[5 7]</td>\n",
       "      <td>277796965</td>\n",
       "    </tr>\n",
       "    <tr>\n",
       "      <th>88</th>\n",
       "      <td>Wtorek 13 czerwca 2023</td>\n",
       "      <td>[11 29 32 46 47]</td>\n",
       "      <td>[5 7]</td>\n",
       "      <td>287866153</td>\n",
       "    </tr>\n",
       "    <tr>\n",
       "      <th>89</th>\n",
       "      <td>Wtorek 21 lutego 2023</td>\n",
       "      <td>[13 20 34 38 43]</td>\n",
       "      <td>[3 6]</td>\n",
       "      <td>252795537</td>\n",
       "    </tr>\n",
       "  </tbody>\n",
       "</table>\n",
       "<p>90 rows × 4 columns</p>\n",
       "</div>"
      ],
      "text/plain": [
       "                         date      main_numbers additional_numbers       seed\n",
       "0    PiÄ…tek 9 listopada 2012  [25 29 38 41 44]              [3 8]  253569116\n",
       "1   PiÄ…tek 14 wrzeĹ›nia 2012  [10 14 15 24 47]              [4 8]  275533691\n",
       "2    PiÄ…tek 7 wrzeĹ›nia 2012  [15 23 25 46 49]              [2 4]  259552719\n",
       "3        PiÄ…tek 6 lipca 2012  [10 22 24 33 38]              [2 6]  284993389\n",
       "4      PiÄ…tek 8 czerwca 2012  [10 15 16 36 44]              [7 8]  250462337\n",
       "..                        ...               ...                ...        ...\n",
       "85     Wtorek 13 czerwca 2023  [11 29 32 46 47]              [5 7]  275692504\n",
       "86     Wtorek 13 czerwca 2023  [11 29 32 46 47]              [5 7]  276382750\n",
       "87     Wtorek 13 czerwca 2023  [11 29 32 46 47]              [5 7]  277796965\n",
       "88     Wtorek 13 czerwca 2023  [11 29 32 46 47]              [5 7]  287866153\n",
       "89      Wtorek 21 lutego 2023  [13 20 34 38 43]              [3 6]  252795537\n",
       "\n",
       "[90 rows x 4 columns]"
      ]
     },
     "execution_count": 18,
     "metadata": {},
     "output_type": "execute_result"
    }
   ],
   "source": [
    "df_results_6"
   ]
  },
  {
   "cell_type": "code",
   "execution_count": 5,
   "metadata": {},
   "outputs": [],
   "source": [
    "result = pd.concat([df_result_1, df_result_2, df_result_3, df_result_4, df_result_5, df_result_6])"
   ]
  },
  {
   "cell_type": "code",
   "execution_count": 21,
   "metadata": {},
   "outputs": [],
   "source": [
    "result['date'] = result['date'].str.replace('Wtorek ','')\n",
    "result['date'] = result['date'].str.replace('PiÄ…tek ','')"
   ]
  },
  {
   "cell_type": "code",
   "execution_count": 24,
   "metadata": {},
   "outputs": [],
   "source": [
    "result['date'] = result['date'].str.replace('stycznia','01')\n",
    "result['date'] = result['date'].str.replace('lutego','02')\n",
    "result['date'] = result['date'].str.replace('marca','03')\n",
    "result['date'] = result['date'].str.replace('kwietnia','04')\n",
    "result['date'] = result['date'].str.replace('maja','05')\n",
    "result['date'] = result['date'].str.replace('czerwca','06')\n",
    "result['date'] = result['date'].str.replace('lipca','07')\n",
    "result['date'] = result['date'].str.replace('sierpnia','08')\n",
    "result['date'] = result['date'].str.replace('wrzeĹ›nia','09')\n",
    "result['date'] = result['date'].str.replace('paĹşdziernika','10')\n",
    "result['date'] = result['date'].str.replace('listopada','11')\n",
    "result['date'] = result['date'].str.replace('grudnia','12')\n"
   ]
  },
  {
   "cell_type": "code",
   "execution_count": 26,
   "metadata": {},
   "outputs": [],
   "source": [
    "result['date'] = pd.to_datetime(result['date'], format='%d %m %Y')"
   ]
  },
  {
   "cell_type": "code",
   "execution_count": 30,
   "metadata": {},
   "outputs": [],
   "source": [
    "result = result.sort_values(by='date')"
   ]
  },
  {
   "cell_type": "code",
   "execution_count": 32,
   "metadata": {},
   "outputs": [],
   "source": [
    "result.to_parquet('final_results.parquet')"
   ]
  },
  {
   "cell_type": "code",
   "execution_count": 33,
   "metadata": {},
   "outputs": [],
   "source": [
    "result.to_excel('final_results.xlsx')"
   ]
  },
  {
   "cell_type": "code",
   "execution_count": 4,
   "metadata": {},
   "outputs": [],
   "source": [
    "df_result_1 = pd.read_parquet('Euro_numbers_part1.parquet')\n",
    "df_result_2 = pd.read_parquet('Euro_numbers_part2.parquet')\n",
    "df_result_3 = pd.read_parquet('Euro_numbers_part3.parquet')\n",
    "df_result_4 = pd.read_parquet('Euro_numbers_part4.parquet')\n",
    "df_result_5 = pd.read_parquet('Euro_numbers_part5.parquet')\n",
    "df_result_6 = pd.read_parquet('Euro_numbers_part6.parquet')"
   ]
  },
  {
   "cell_type": "code",
   "execution_count": 4,
   "metadata": {},
   "outputs": [
    {
     "data": {
      "text/html": [
       "<div>\n",
       "<style scoped>\n",
       "    .dataframe tbody tr th:only-of-type {\n",
       "        vertical-align: middle;\n",
       "    }\n",
       "\n",
       "    .dataframe tbody tr th {\n",
       "        vertical-align: top;\n",
       "    }\n",
       "\n",
       "    .dataframe thead th {\n",
       "        text-align: right;\n",
       "    }\n",
       "</style>\n",
       "<table border=\"1\" class=\"dataframe\">\n",
       "  <thead>\n",
       "    <tr style=\"text-align: right;\">\n",
       "      <th></th>\n",
       "      <th>seed</th>\n",
       "      <th>main_numbers</th>\n",
       "      <th>additional_numbers</th>\n",
       "    </tr>\n",
       "  </thead>\n",
       "  <tbody>\n",
       "    <tr>\n",
       "      <th>0</th>\n",
       "      <td>0</td>\n",
       "      <td>[3 11 12 29 42]</td>\n",
       "      <td>[3 4]</td>\n",
       "    </tr>\n",
       "    <tr>\n",
       "      <th>1</th>\n",
       "      <td>1</td>\n",
       "      <td>[3 28 36 39 41]</td>\n",
       "      <td>[3 5]</td>\n",
       "    </tr>\n",
       "    <tr>\n",
       "      <th>2</th>\n",
       "      <td>2</td>\n",
       "      <td>[10 14 29 37 48]</td>\n",
       "      <td>[5 6]</td>\n",
       "    </tr>\n",
       "    <tr>\n",
       "      <th>3</th>\n",
       "      <td>3</td>\n",
       "      <td>[10 13 32 40 48]</td>\n",
       "      <td>[1 3]</td>\n",
       "    </tr>\n",
       "    <tr>\n",
       "      <th>4</th>\n",
       "      <td>4</td>\n",
       "      <td>[5 7 12 13 49]</td>\n",
       "      <td>[2 5]</td>\n",
       "    </tr>\n",
       "  </tbody>\n",
       "</table>\n",
       "</div>"
      ],
      "text/plain": [
       "   seed      main_numbers additional_numbers\n",
       "0     0   [3 11 12 29 42]              [3 4]\n",
       "1     1   [3 28 36 39 41]              [3 5]\n",
       "2     2  [10 14 29 37 48]              [5 6]\n",
       "3     3  [10 13 32 40 48]              [1 3]\n",
       "4     4    [5 7 12 13 49]              [2 5]"
      ]
     },
     "execution_count": 4,
     "metadata": {},
     "output_type": "execute_result"
    }
   ],
   "source": [
    "df_result_1.head()"
   ]
  },
  {
   "cell_type": "code",
   "execution_count": 6,
   "metadata": {},
   "outputs": [],
   "source": [
    "df = result.groupby(['main_numbers', 'additional_numbers']).size().reset_index(name='Count')"
   ]
  },
  {
   "cell_type": "code",
   "execution_count": 11,
   "metadata": {},
   "outputs": [
    {
     "data": {
      "text/html": [
       "<div>\n",
       "<style scoped>\n",
       "    .dataframe tbody tr th:only-of-type {\n",
       "        vertical-align: middle;\n",
       "    }\n",
       "\n",
       "    .dataframe tbody tr th {\n",
       "        vertical-align: top;\n",
       "    }\n",
       "\n",
       "    .dataframe thead th {\n",
       "        text-align: right;\n",
       "    }\n",
       "</style>\n",
       "<table border=\"1\" class=\"dataframe\">\n",
       "  <thead>\n",
       "    <tr style=\"text-align: right;\">\n",
       "      <th></th>\n",
       "      <th>main_numbers</th>\n",
       "      <th>additional_numbers</th>\n",
       "      <th>Count</th>\n",
       "    </tr>\n",
       "  </thead>\n",
       "  <tbody>\n",
       "    <tr>\n",
       "      <th>26529391</th>\n",
       "      <td>[15 22 40 47 49]</td>\n",
       "      <td>[1 10]</td>\n",
       "      <td>18</td>\n",
       "    </tr>\n",
       "    <tr>\n",
       "      <th>67052911</th>\n",
       "      <td>[5 17 33 39 50]</td>\n",
       "      <td>[5 9]</td>\n",
       "      <td>17</td>\n",
       "    </tr>\n",
       "    <tr>\n",
       "      <th>35345809</th>\n",
       "      <td>[2 13 17 23 48]</td>\n",
       "      <td>[8 9]</td>\n",
       "      <td>17</td>\n",
       "    </tr>\n",
       "    <tr>\n",
       "      <th>80918263</th>\n",
       "      <td>[7 31 34 47 48]</td>\n",
       "      <td>[6 7]</td>\n",
       "      <td>17</td>\n",
       "    </tr>\n",
       "    <tr>\n",
       "      <th>47333161</th>\n",
       "      <td>[25 32 35 36 45]</td>\n",
       "      <td>[3 4]</td>\n",
       "      <td>16</td>\n",
       "    </tr>\n",
       "    <tr>\n",
       "      <th>34788634</th>\n",
       "      <td>[2 11 25 28 37]</td>\n",
       "      <td>[2 8]</td>\n",
       "      <td>16</td>\n",
       "    </tr>\n",
       "    <tr>\n",
       "      <th>53985725</th>\n",
       "      <td>[3 5 12 16 35]</td>\n",
       "      <td>[3 9]</td>\n",
       "      <td>16</td>\n",
       "    </tr>\n",
       "    <tr>\n",
       "      <th>72123687</th>\n",
       "      <td>[6 13 15 25 40]</td>\n",
       "      <td>[2 7]</td>\n",
       "      <td>16</td>\n",
       "    </tr>\n",
       "    <tr>\n",
       "      <th>31380578</th>\n",
       "      <td>[18 20 21 33 34]</td>\n",
       "      <td>[8 9]</td>\n",
       "      <td>16</td>\n",
       "    </tr>\n",
       "    <tr>\n",
       "      <th>82280273</th>\n",
       "      <td>[8 10 19 24 35]</td>\n",
       "      <td>[1 10]</td>\n",
       "      <td>16</td>\n",
       "    </tr>\n",
       "  </tbody>\n",
       "</table>\n",
       "</div>"
      ],
      "text/plain": [
       "              main_numbers additional_numbers  Count\n",
       "26529391  [15 22 40 47 49]             [1 10]     18\n",
       "67052911   [5 17 33 39 50]              [5 9]     17\n",
       "35345809   [2 13 17 23 48]              [8 9]     17\n",
       "80918263   [7 31 34 47 48]              [6 7]     17\n",
       "47333161  [25 32 35 36 45]              [3 4]     16\n",
       "34788634   [2 11 25 28 37]              [2 8]     16\n",
       "53985725    [3 5 12 16 35]              [3 9]     16\n",
       "72123687   [6 13 15 25 40]              [2 7]     16\n",
       "31380578  [18 20 21 33 34]              [8 9]     16\n",
       "82280273   [8 10 19 24 35]             [1 10]     16"
      ]
     },
     "execution_count": 11,
     "metadata": {},
     "output_type": "execute_result"
    }
   ],
   "source": [
    "df.sort_values(by='Count', ascending=False).head(10)"
   ]
  },
  {
   "cell_type": "code",
   "execution_count": 12,
   "metadata": {},
   "outputs": [],
   "source": [
    "df_win = pd.read_parquet('EJ_winning_numbers.parquet')"
   ]
  },
  {
   "cell_type": "code",
   "execution_count": 30,
   "metadata": {},
   "outputs": [
    {
     "data": {
      "text/html": [
       "<div>\n",
       "<style scoped>\n",
       "    .dataframe tbody tr th:only-of-type {\n",
       "        vertical-align: middle;\n",
       "    }\n",
       "\n",
       "    .dataframe tbody tr th {\n",
       "        vertical-align: top;\n",
       "    }\n",
       "\n",
       "    .dataframe thead th {\n",
       "        text-align: right;\n",
       "    }\n",
       "</style>\n",
       "<table border=\"1\" class=\"dataframe\">\n",
       "  <thead>\n",
       "    <tr style=\"text-align: right;\">\n",
       "      <th></th>\n",
       "      <th>date</th>\n",
       "      <th>main_numbers</th>\n",
       "      <th>additional_numbers</th>\n",
       "    </tr>\n",
       "  </thead>\n",
       "  <tbody>\n",
       "    <tr>\n",
       "      <th>0</th>\n",
       "      <td>PiÄ…tek 28 grudnia 2012</td>\n",
       "      <td>[ 5  8 22 32 39]</td>\n",
       "      <td>[7 8]</td>\n",
       "    </tr>\n",
       "    <tr>\n",
       "      <th>1</th>\n",
       "      <td>PiÄ…tek 21 grudnia 2012</td>\n",
       "      <td>[11 20 24 25 35]</td>\n",
       "      <td>[4 8]</td>\n",
       "    </tr>\n",
       "    <tr>\n",
       "      <th>2</th>\n",
       "      <td>PiÄ…tek 14 grudnia 2012</td>\n",
       "      <td>[17 28 31 35 39]</td>\n",
       "      <td>[5 8]</td>\n",
       "    </tr>\n",
       "    <tr>\n",
       "      <th>3</th>\n",
       "      <td>PiÄ…tek 7 grudnia 2012</td>\n",
       "      <td>[13 20 22 27 42]</td>\n",
       "      <td>[3 5]</td>\n",
       "    </tr>\n",
       "    <tr>\n",
       "      <th>4</th>\n",
       "      <td>PiÄ…tek 30 listopada 2012</td>\n",
       "      <td>[ 2 13 21 24 37]</td>\n",
       "      <td>[6 7]</td>\n",
       "    </tr>\n",
       "  </tbody>\n",
       "</table>\n",
       "</div>"
      ],
      "text/plain": [
       "                        date      main_numbers additional_numbers\n",
       "0    PiÄ…tek 28 grudnia 2012  [ 5  8 22 32 39]              [7 8]\n",
       "1    PiÄ…tek 21 grudnia 2012  [11 20 24 25 35]              [4 8]\n",
       "2    PiÄ…tek 14 grudnia 2012  [17 28 31 35 39]              [5 8]\n",
       "3     PiÄ…tek 7 grudnia 2012  [13 20 22 27 42]              [3 5]\n",
       "4  PiÄ…tek 30 listopada 2012  [ 2 13 21 24 37]              [6 7]"
      ]
     },
     "execution_count": 30,
     "metadata": {},
     "output_type": "execute_result"
    }
   ],
   "source": [
    "df_win.head()"
   ]
  },
  {
   "cell_type": "code",
   "execution_count": 35,
   "metadata": {},
   "outputs": [],
   "source": [
    "desired_value = '[ 5 8 22 32 39]'\n",
    "filtered_df = df_win[df_win['main_numbers']== desired_value]"
   ]
  },
  {
   "cell_type": "code",
   "execution_count": 36,
   "metadata": {},
   "outputs": [
    {
     "data": {
      "text/html": [
       "<div>\n",
       "<style scoped>\n",
       "    .dataframe tbody tr th:only-of-type {\n",
       "        vertical-align: middle;\n",
       "    }\n",
       "\n",
       "    .dataframe tbody tr th {\n",
       "        vertical-align: top;\n",
       "    }\n",
       "\n",
       "    .dataframe thead th {\n",
       "        text-align: right;\n",
       "    }\n",
       "</style>\n",
       "<table border=\"1\" class=\"dataframe\">\n",
       "  <thead>\n",
       "    <tr style=\"text-align: right;\">\n",
       "      <th></th>\n",
       "      <th>date</th>\n",
       "      <th>main_numbers</th>\n",
       "      <th>additional_numbers</th>\n",
       "    </tr>\n",
       "  </thead>\n",
       "  <tbody>\n",
       "  </tbody>\n",
       "</table>\n",
       "</div>"
      ],
      "text/plain": [
       "Empty DataFrame\n",
       "Columns: [date, main_numbers, additional_numbers]\n",
       "Index: []"
      ]
     },
     "execution_count": 36,
     "metadata": {},
     "output_type": "execute_result"
    }
   ],
   "source": [
    "filtered_df"
   ]
  },
  {
   "cell_type": "code",
   "execution_count": 27,
   "metadata": {},
   "outputs": [
    {
     "data": {
      "text/plain": [
       "date                  object\n",
       "main_numbers          object\n",
       "additional_numbers    object\n",
       "dtype: object"
      ]
     },
     "execution_count": 27,
     "metadata": {},
     "output_type": "execute_result"
    }
   ],
   "source": [
    "df_win.dtypes"
   ]
  },
  {
   "cell_type": "code",
   "execution_count": 37,
   "metadata": {},
   "outputs": [],
   "source": [
    "df_results_6=df_win.merge(df, how='inner', on=['main_numbers','additional_numbers'] )"
   ]
  },
  {
   "cell_type": "code",
   "execution_count": 43,
   "metadata": {},
   "outputs": [
    {
     "data": {
      "text/html": [
       "<div>\n",
       "<style scoped>\n",
       "    .dataframe tbody tr th:only-of-type {\n",
       "        vertical-align: middle;\n",
       "    }\n",
       "\n",
       "    .dataframe tbody tr th {\n",
       "        vertical-align: top;\n",
       "    }\n",
       "\n",
       "    .dataframe thead th {\n",
       "        text-align: right;\n",
       "    }\n",
       "</style>\n",
       "<table border=\"1\" class=\"dataframe\">\n",
       "  <thead>\n",
       "    <tr style=\"text-align: right;\">\n",
       "      <th></th>\n",
       "      <th>date</th>\n",
       "      <th>main_numbers</th>\n",
       "      <th>additional_numbers</th>\n",
       "      <th>Count</th>\n",
       "    </tr>\n",
       "  </thead>\n",
       "  <tbody>\n",
       "    <tr>\n",
       "      <th>39</th>\n",
       "      <td>PiÄ…tek 28 marca 2014</td>\n",
       "      <td>[10 32 35 38 45]</td>\n",
       "      <td>[4 5]</td>\n",
       "      <td>9</td>\n",
       "    </tr>\n",
       "    <tr>\n",
       "      <th>34</th>\n",
       "      <td>PiÄ…tek 15 sierpnia 2014</td>\n",
       "      <td>[17 38 41 43 47]</td>\n",
       "      <td>[4 6]</td>\n",
       "      <td>8</td>\n",
       "    </tr>\n",
       "    <tr>\n",
       "      <th>33</th>\n",
       "      <td>PiÄ…tek 22 sierpnia 2014</td>\n",
       "      <td>[19 20 40 42 47]</td>\n",
       "      <td>[2 8]</td>\n",
       "      <td>8</td>\n",
       "    </tr>\n",
       "    <tr>\n",
       "      <th>111</th>\n",
       "      <td>PiÄ…tek 19 lipca 2019</td>\n",
       "      <td>[31 32 45 47 49]</td>\n",
       "      <td>[7 9]</td>\n",
       "      <td>8</td>\n",
       "    </tr>\n",
       "    <tr>\n",
       "      <th>142</th>\n",
       "      <td>PiÄ…tek 16 kwietnia 2021</td>\n",
       "      <td>[12 19 20 28 31]</td>\n",
       "      <td>[6 9]</td>\n",
       "      <td>8</td>\n",
       "    </tr>\n",
       "    <tr>\n",
       "      <th>...</th>\n",
       "      <td>...</td>\n",
       "      <td>...</td>\n",
       "      <td>...</td>\n",
       "      <td>...</td>\n",
       "    </tr>\n",
       "    <tr>\n",
       "      <th>46</th>\n",
       "      <td>PiÄ…tek 9 paĹşdziernika 2015</td>\n",
       "      <td>[13 14 23 26 31]</td>\n",
       "      <td>[3 9]</td>\n",
       "      <td>1</td>\n",
       "    </tr>\n",
       "    <tr>\n",
       "      <th>88</th>\n",
       "      <td>PiÄ…tek 27 stycznia 2017</td>\n",
       "      <td>[12 15 19 29 48]</td>\n",
       "      <td>[7 9]</td>\n",
       "      <td>1</td>\n",
       "    </tr>\n",
       "    <tr>\n",
       "      <th>42</th>\n",
       "      <td>PiÄ…tek 18 grudnia 2015</td>\n",
       "      <td>[11 19 27 32 42]</td>\n",
       "      <td>[5 9]</td>\n",
       "      <td>1</td>\n",
       "    </tr>\n",
       "    <tr>\n",
       "      <th>40</th>\n",
       "      <td>PiÄ…tek 7 lutego 2014</td>\n",
       "      <td>[16 18 20 36 49]</td>\n",
       "      <td>[3 4]</td>\n",
       "      <td>1</td>\n",
       "    </tr>\n",
       "    <tr>\n",
       "      <th>110</th>\n",
       "      <td>PiÄ…tek 23 sierpnia 2019</td>\n",
       "      <td>[15 18 19 41 42]</td>\n",
       "      <td>[4 6]</td>\n",
       "      <td>1</td>\n",
       "    </tr>\n",
       "  </tbody>\n",
       "</table>\n",
       "<p>175 rows × 4 columns</p>\n",
       "</div>"
      ],
      "text/plain": [
       "                             date      main_numbers additional_numbers  Count\n",
       "39          PiÄ…tek 28 marca 2014  [10 32 35 38 45]              [4 5]      9\n",
       "34       PiÄ…tek 15 sierpnia 2014  [17 38 41 43 47]              [4 6]      8\n",
       "33       PiÄ…tek 22 sierpnia 2014  [19 20 40 42 47]              [2 8]      8\n",
       "111         PiÄ…tek 19 lipca 2019  [31 32 45 47 49]              [7 9]      8\n",
       "142      PiÄ…tek 16 kwietnia 2021  [12 19 20 28 31]              [6 9]      8\n",
       "..                            ...               ...                ...    ...\n",
       "46   PiÄ…tek 9 paĹşdziernika 2015  [13 14 23 26 31]              [3 9]      1\n",
       "88       PiÄ…tek 27 stycznia 2017  [12 15 19 29 48]              [7 9]      1\n",
       "42        PiÄ…tek 18 grudnia 2015  [11 19 27 32 42]              [5 9]      1\n",
       "40          PiÄ…tek 7 lutego 2014  [16 18 20 36 49]              [3 4]      1\n",
       "110      PiÄ…tek 23 sierpnia 2019  [15 18 19 41 42]              [4 6]      1\n",
       "\n",
       "[175 rows x 4 columns]"
      ]
     },
     "execution_count": 43,
     "metadata": {},
     "output_type": "execute_result"
    }
   ],
   "source": [
    "df_results_6.sort_values(by='Count', ascending=False)"
   ]
  },
  {
   "cell_type": "code",
   "execution_count": null,
   "metadata": {},
   "outputs": [],
   "source": []
  }
 ],
 "metadata": {
  "kernelspec": {
   "display_name": "test",
   "language": "python",
   "name": "python3"
  },
  "language_info": {
   "codemirror_mode": {
    "name": "ipython",
    "version": 3
   },
   "file_extension": ".py",
   "mimetype": "text/x-python",
   "name": "python",
   "nbconvert_exporter": "python",
   "pygments_lexer": "ipython3",
   "version": "3.10.11"
  },
  "orig_nbformat": 4
 },
 "nbformat": 4,
 "nbformat_minor": 2
}
